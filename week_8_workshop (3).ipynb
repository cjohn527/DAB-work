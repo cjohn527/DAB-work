{
 "cells": [
  {
   "cell_type": "code",
   "execution_count": null,
   "id": "02c4fdd5-ae6b-4782-af77-65703f086321",
   "metadata": {},
   "outputs": [],
   "source": [
    "import pandas as pd"
   ]
  },
  {
   "cell_type": "code",
   "execution_count": null,
   "id": "66d0c615-1474-4569-a36a-6806ea44d7ac",
   "metadata": {},
   "outputs": [],
   "source": [
    "# Part 1: Data Loading and Exploration\n",
    "# Read all CSV files into Pandas DataFrames (read_csv)"
   ]
  },
  {
   "cell_type": "code",
   "execution_count": null,
   "id": "7e1c1de2-0b55-446f-9c3a-51083234044a",
   "metadata": {},
   "outputs": [],
   "source": [
    "# Display the first few rows of each DataFrame (.head)"
   ]
  },
  {
   "cell_type": "code",
   "execution_count": null,
   "id": "1ec16fcd-ac14-472b-a446-4d02af02a071",
   "metadata": {},
   "outputs": [],
   "source": [
    "# 2. Exploratory Analysis\n",
    "\n",
    "# Obtain summary statistics for numerical columns (.describe)"
   ]
  },
  {
   "cell_type": "code",
   "execution_count": null,
   "id": "a717b2f1-a873-4a63-8678-d12100e38e31",
   "metadata": {},
   "outputs": [],
   "source": [
    "# Check for missing values in all dataframes\n",
    "\n",
    "# Display the data types of each column (.info)"
   ]
  },
  {
   "cell_type": "code",
   "execution_count": null,
   "id": "4ba52a69-c60d-4375-b545-4924a61b8f41",
   "metadata": {},
   "outputs": [],
   "source": [
    "# Part 2: Data Cleaning\n",
    "\n",
    "# 1. Handling Missing Values\n",
    "\n",
    "# Create copies of original DataFrames for cleaning"
   ]
  },
  {
   "cell_type": "code",
   "execution_count": null,
   "id": "6a474be2-c203-4b10-80a3-d3735e4a35d5",
   "metadata": {},
   "outputs": [],
   "source": [
    "# For numerical columns with missing values, replace with column mean (fillna with mean)\n"
   ]
  },
  {
   "cell_type": "code",
   "execution_count": null,
   "id": "429524f5",
   "metadata": {},
   "outputs": [],
   "source": [
    "# For categorical columns with missing values, replace with most frequent value (fillna with mode)\n"
   ]
  },
  {
   "cell_type": "code",
   "execution_count": null,
   "id": "d197318d-6895-4e64-a534-e981575948df",
   "metadata": {},
   "outputs": [],
   "source": [
    "# 2. Removing Duplicates\n",
    "\n",
    "# Check for duplicates in customers (duplicated and sum)\n"
   ]
  },
  {
   "cell_type": "code",
   "execution_count": null,
   "id": "9414724e",
   "metadata": {},
   "outputs": [],
   "source": [
    "# Check for duplicates in products (duplicated and sum)"
   ]
  },
  {
   "cell_type": "code",
   "execution_count": null,
   "id": "04159c5d-fd86-4a5e-a401-5107c9b178fb",
   "metadata": {},
   "outputs": [],
   "source": [
    "# 3. Basic Information Retrieval\n",
    "# FILTER products dataframe to get a dataframe of products with price over $500 AND weigh less than 1 pound\n",
    "\n"
   ]
  },
  {
   "cell_type": "code",
   "execution_count": null,
   "id": "722dbd00",
   "metadata": {},
   "outputs": [],
   "source": [
    "# FILTER products to get a dataframe of products that are either in the Beauty OR Grocery category"
   ]
  },
  {
   "cell_type": "code",
   "execution_count": null,
   "id": "34c56906",
   "metadata": {},
   "outputs": [],
   "source": [
    "# find average cost of products by category (groupby)"
   ]
  },
  {
   "cell_type": "code",
   "execution_count": null,
   "id": "7c3e8bf7",
   "metadata": {},
   "outputs": [],
   "source": [
    "# How many unique products are in the product catalog? (nunique)"
   ]
  },
  {
   "cell_type": "code",
   "execution_count": null,
   "id": "0129e83f",
   "metadata": {},
   "outputs": [],
   "source": [
    "# What are the top 5 most expensive products? (sort and head)"
   ]
  },
  {
   "cell_type": "code",
   "execution_count": null,
   "id": "b9143d61",
   "metadata": {},
   "outputs": [],
   "source": [
    "# What is the number of customers from each state? (value count)\n"
   ]
  }
 ],
 "metadata": {
  "kernelspec": {
   "display_name": "Python [conda env:base] *",
   "language": "python",
   "name": "conda-base-py"
  },
  "language_info": {
   "codemirror_mode": {
    "name": "ipython",
    "version": 3
   },
   "file_extension": ".py",
   "mimetype": "text/x-python",
   "name": "python",
   "nbconvert_exporter": "python",
   "pygments_lexer": "ipython3",
   "version": "3.12.7"
  }
 },
 "nbformat": 4,
 "nbformat_minor": 5
}
